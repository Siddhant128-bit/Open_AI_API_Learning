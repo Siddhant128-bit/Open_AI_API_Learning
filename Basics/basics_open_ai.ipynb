{
 "cells": [
  {
   "cell_type": "markdown",
   "metadata": {},
   "source": [
    "<h3 align='center'> Open AI Basics </h3>"
   ]
  },
  {
   "cell_type": "code",
   "execution_count": 36,
   "metadata": {},
   "outputs": [],
   "source": [
    "from openai import OpenAI\n",
    "with open('api_key.txt','r')as f:\n",
    "    api_key_in=f.readlines()\n",
    "\n",
    "api_key_in=api_key_in[0]\n",
    "client = OpenAI(api_key=api_key_in)"
   ]
  },
  {
   "cell_type": "markdown",
   "metadata": {},
   "source": [
    "<h3> 1. Single Response with context </h3>"
   ]
  },
  {
   "cell_type": "code",
   "execution_count": 37,
   "metadata": {},
   "outputs": [],
   "source": [
    "input_1='My name is Raja, I am an Engineer by Profession !!'\n",
    "input_2='Can you tell me my name and my profession ?'\n",
    "input_3='Can you tell me a bunch of funny and smart movies that I can watch ?'\n",
    "response = client.chat.completions.create(\n",
    "  model=\"gpt-3.5-turbo\",\n",
    "  messages=[\n",
    "    {\"role\": \"system\", \"content\": \"You are a helpful assistant.\"},\n",
    "    {\"role\": \"user\",\"content\": input_3}\n",
    "  ]\n",
    ")"
   ]
  },
  {
   "cell_type": "code",
   "execution_count": 38,
   "metadata": {},
   "outputs": [
    {
     "name": "stdout",
     "output_type": "stream",
     "text": [
      "ChatCompletion(id='chatcmpl-8P8dalD1Qu2D47tosdvyRshqqQmwe', choices=[Choice(finish_reason='stop', index=0, message=ChatCompletionMessage(content='Of course! Here are some funny and smart movies across different genres that you might enjoy:\\n\\n1. \"The Grand Budapest Hotel\" (2014) - A quirky and smart comedy about the misadventures of a hotel concierge and his lobby boy.\\n2. \"Airplane!\" (1980) - A hilarious spoof of disaster movies that is filled with clever wordplay and visual gags.\\n3. \"Hot Fuzz\" (2007) - This action-comedy follows a dedicated police officer transferred to a seemingly perfect small town, but something is not quite right.\\n4. \"Inception\" (2010) - An imaginative and mind-bending sci-fi thriller that provides plenty of action and intelligence.\\n5. \"Annie Hall\" (1977) - Woody Allen\\'s romantic comedy about a neurotic comedian\\'s relationship with a quirky woman, blending smart humor and introspection.\\n6. \"The Big Lebowski\" (1998) - A cult classic that mixes comedy and noir elements, following the misadventures of an easygoing slacker.\\n7. \"Shaun of the Dead\" (2004) - A brilliant blend of comedy and zombie horror, showcasing both witty dialogue and physical humor.\\n8. \"Groundhog Day\" (1993) - A comedy about a weatherman forced to relive the same day over and over again, with a smart exploration of personal growth and redemption.\\n9. \"Monty Python and the Holy Grail\" (1975) - This British comedy follows King Arthur and his knights on a hilarious and absurd quest for the Holy Grail.\\n10. \"The Princess Bride\" (1987) - A charming fairy tale adventure that combines romance, action, and wit, creating a delightful experience for all ages.\\n\\nThese movies should keep you entertained with their mix of humor and intelligence!', role='assistant', function_call=None, tool_calls=None))], created=1701002094, model='gpt-3.5-turbo-0613', object='chat.completion', system_fingerprint=None, usage=CompletionUsage(completion_tokens=375, prompt_tokens=33, total_tokens=408))\n"
     ]
    }
   ],
   "source": [
    "print(response)"
   ]
  },
  {
   "cell_type": "code",
   "execution_count": 39,
   "metadata": {},
   "outputs": [
    {
     "name": "stdout",
     "output_type": "stream",
     "text": [
      "Of course! Here are some funny and smart movies across different genres that you might enjoy:\n",
      "\n",
      "1. \"The Grand Budapest Hotel\" (2014) - A quirky and smart comedy about the misadventures of a hotel concierge and his lobby boy.\n",
      "2. \"Airplane!\" (1980) - A hilarious spoof of disaster movies that is filled with clever wordplay and visual gags.\n",
      "3. \"Hot Fuzz\" (2007) - This action-comedy follows a dedicated police officer transferred to a seemingly perfect small town, but something is not quite right.\n",
      "4. \"Inception\" (2010) - An imaginative and mind-bending sci-fi thriller that provides plenty of action and intelligence.\n",
      "5. \"Annie Hall\" (1977) - Woody Allen's romantic comedy about a neurotic comedian's relationship with a quirky woman, blending smart humor and introspection.\n",
      "6. \"The Big Lebowski\" (1998) - A cult classic that mixes comedy and noir elements, following the misadventures of an easygoing slacker.\n",
      "7. \"Shaun of the Dead\" (2004) - A brilliant blend of comedy and zombie horror, showcasing both witty dialogue and physical humor.\n",
      "8. \"Groundhog Day\" (1993) - A comedy about a weatherman forced to relive the same day over and over again, with a smart exploration of personal growth and redemption.\n",
      "9. \"Monty Python and the Holy Grail\" (1975) - This British comedy follows King Arthur and his knights on a hilarious and absurd quest for the Holy Grail.\n",
      "10. \"The Princess Bride\" (1987) - A charming fairy tale adventure that combines romance, action, and wit, creating a delightful experience for all ages.\n",
      "\n",
      "These movies should keep you entertained with their mix of humor and intelligence!\n"
     ]
    }
   ],
   "source": [
    "print(response.choices[0].message.content)"
   ]
  },
  {
   "cell_type": "markdown",
   "metadata": {},
   "source": [
    "<h3> 2. Understanding the concept of context </h3>"
   ]
  },
  {
   "cell_type": "code",
   "execution_count": 24,
   "metadata": {},
   "outputs": [
    {
     "name": "stdout",
     "output_type": "stream",
     "text": [
      "Hello Raja, as a data scientist, there are several things you should focus on. Here are some key areas:\n",
      "\n",
      "1. Strong Foundation in Mathematics and Statistics: Having a solid understanding of mathematical concepts like linear algebra, calculus, and probability theory is essential for data analysis and modeling.\n",
      "\n",
      "2. Programming Skills: Proficiency in programming languages such as Python or R is crucial for data manipulation, visualization, and analysis. Additionally, having knowledge of SQL and data querying is beneficial.\n",
      "\n",
      "3. Machine Learning: Familiarize yourself with various machine learning algorithms, both supervised and unsupervised, and understand how to implement them to solve real-world problems. Knowledge of frameworks like TensorFlow or scikit-learn would be a plus.\n",
      "\n",
      "4. Data Visualization and Communication: Learn how to effectively visualize data, so you can communicate your findings and insights to others. Tools like Tableau or matplotlib can help with this.\n",
      "\n",
      "5. Domain Knowledge: Acquire domain-specific knowledge related to the industry or field you are working in. Understanding the specific nuances of the data you are working with will help you derive more meaningful insights.\n",
      "\n",
      "As for your name, I see that you mentioned it is Raja. As for a quality of yours, it seems that you consider yourself a genius! It's great to have confidence in your abilities, as long as it's balanced with humility and a willingness to keep learning and growing.\n"
     ]
    }
   ],
   "source": [
    "response = client.chat.completions.create(\n",
    "  model=\"gpt-3.5-turbo\",\n",
    "  messages=[\n",
    "    {\"role\": \"system\", \"content\": \"You are a helpful assistant.\"},\n",
    "    {\"role\": \"user\",\"content\": \"Hey My name is Raja, I am a genius what are the things that I should look at to be Data Scientist ?\"},\n",
    "    {\"role\": \"user\",\"content\": \"Can you tell my name and my last question along with a quality of mine ?, Also answer it for me please \"},\n",
    "     \n",
    "  ]\n",
    ")\n",
    "print(str(response.choices[0].message.content))"
   ]
  },
  {
   "cell_type": "markdown",
   "metadata": {},
   "source": [
    "<h3> 3. Interactive Responses </h3>"
   ]
  },
  {
   "cell_type": "code",
   "execution_count": 10,
   "metadata": {},
   "outputs": [],
   "source": [
    "def chat_with_gpt(user_input,conversation_history):\n",
    "    conversation_history.append({\"role\": \"user\", \"content\": user_input})\n",
    "    # Call the OpenAI API to get a response\n",
    "    response = client.chat.completions.create(\n",
    "        model=\"gpt-3.5-turbo\",\n",
    "        messages=conversation_history\n",
    "    )\n",
    "\n",
    "    # Extract the assistant's reply from the response\n",
    "    assistant_reply = response.choices[0].message.content\n",
    "\n",
    "    return assistant_reply, conversation_history\n",
    "\n",
    "conversation_history=[{\"role\": \"system\", \"content\": \"You are a system that can basically answer anything about movies/series\" }]"
   ]
  },
  {
   "cell_type": "code",
   "execution_count": 13,
   "metadata": {},
   "outputs": [
    {
     "name": "stdout",
     "output_type": "stream",
     "text": [
      "You: hey\n",
      "\t\tAssistant: Hello! How can I assist you today?\n",
      "You: what can you do ?\n",
      "\t\tAssistant: Hello! I'm here to help you with anything related to movies and series. Whether you need recommendations, information about actors, plot summaries, or trivia, feel free to ask!\n"
     ]
    }
   ],
   "source": [
    "while True:\n",
    "    user_input = input(\"You: \")\n",
    "    if user_input.lower() == 'bye':\n",
    "        break\n",
    "    \n",
    "    assistant_reply, conversation_history = chat_with_gpt(user_input, conversation_history)\n",
    "    print(f'You: {user_input}')\n",
    "    print(\"\\t\\tAssistant:\", str(assistant_reply))\n",
    "\n",
    "    "
   ]
  }
 ],
 "metadata": {
  "kernelspec": {
   "display_name": "Open_AI_",
   "language": "python",
   "name": "python3"
  },
  "language_info": {
   "codemirror_mode": {
    "name": "ipython",
    "version": 3
   },
   "file_extension": ".py",
   "mimetype": "text/x-python",
   "name": "python",
   "nbconvert_exporter": "python",
   "pygments_lexer": "ipython3",
   "version": "3.12.0"
  }
 },
 "nbformat": 4,
 "nbformat_minor": 2
}
