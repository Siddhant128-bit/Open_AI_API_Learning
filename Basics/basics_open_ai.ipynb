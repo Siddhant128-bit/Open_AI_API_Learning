{
 "cells": [
  {
   "cell_type": "markdown",
   "metadata": {},
   "source": [
    "<h3 align='center'> Open AI Basics </h3>"
   ]
  },
  {
   "cell_type": "code",
   "execution_count": 27,
   "metadata": {},
   "outputs": [],
   "source": [
    "from openai import OpenAI\n",
    "api_key_in=str(input('Enter the API key: ')) # for privacy concern input api key: \n",
    "client = OpenAI(api_key=api_key_in)"
   ]
  },
  {
   "cell_type": "markdown",
   "metadata": {},
   "source": [
    "<h3> Single Response </h3>"
   ]
  },
  {
   "cell_type": "code",
   "execution_count": 28,
   "metadata": {},
   "outputs": [],
   "source": [
    "response = client.chat.completions.create(\n",
    "  model=\"gpt-3.5-turbo\",\n",
    "  messages=[\n",
    "    {\"role\": \"system\", \"content\": \"You are a helpful assistant.\"},\n",
    "    {\"role\": \"user\",\"content\": \"Give me list of Series to Binge Watch? \"}\n",
    "  ]\n",
    ")"
   ]
  },
  {
   "cell_type": "code",
   "execution_count": 34,
   "metadata": {},
   "outputs": [
    {
     "name": "stdout",
     "output_type": "stream",
     "text": [
      "Sure! Here's a list of binge-worthy series across different genres:\n",
      "\n",
      "1. \"Friends\" - A classic sitcom about a group of friends navigating life in New York City.\n",
      "2. \"Breaking Bad\" - A gripping drama following a high school chemistry teacher turned methamphetamine producer.\n",
      "3. \"Game of Thrones\" - A fantasy epic revolving around noble families vying for the Iron Throne.\n",
      "4. \"Stranger Things\" - A sci-fi thriller set in the 1980s, combining supernatural elements with a group of kids on a quest.\n",
      "5. \"The Office\" - A mockumentary-style sitcom depicting the daily lives of office employees and their hilarious antics.\n",
      "6. \"Sherlock\" - A modern-day adaptation of the renowned detective stories by Sir Arthur Conan Doyle, featuring Benedict Cumberbatch.\n",
      "7. \"Narcos\" - A crime drama series exploring the rise and fall of the infamous drug lord Pablo Escobar.\n",
      "8. \"The Crown\" - A historical drama chronicling the reign of Queen Elizabeth II, delving into the complexities of her personal and political life.\n",
      "9. \"Stranger Things\" - A thrilling and nostalgic sci-fi series centered around a group of young friends encountering supernatural occurrences in their town.\n",
      "10. \"The Mandalorian\" - A space opera set in the Star Wars universe, following the adventures of a bounty hunter in the aftermath of the Empire's fall.\n",
      "\n",
      "These are just a few suggestions, but there are plenty of great series out there to binge-watch. Enjoy!\n"
     ]
    }
   ],
   "source": [
    "print(response.choices[0].message.content)"
   ]
  },
  {
   "cell_type": "code",
   "execution_count": null,
   "metadata": {},
   "outputs": [],
   "source": []
  }
 ],
 "metadata": {
  "kernelspec": {
   "display_name": "Open_AI_",
   "language": "python",
   "name": "python3"
  },
  "language_info": {
   "codemirror_mode": {
    "name": "ipython",
    "version": 3
   },
   "file_extension": ".py",
   "mimetype": "text/x-python",
   "name": "python",
   "nbconvert_exporter": "python",
   "pygments_lexer": "ipython3",
   "version": "3.12.0"
  }
 },
 "nbformat": 4,
 "nbformat_minor": 2
}
